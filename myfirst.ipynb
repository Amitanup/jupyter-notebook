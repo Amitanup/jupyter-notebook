{
 "cells": [
  {
   "cell_type": "code",
   "execution_count": 1,
   "metadata": {},
   "outputs": [],
   "source": [
    "import pandas as pd"
   ]
  },
  {
   "cell_type": "code",
   "execution_count": 16,
   "metadata": {},
   "outputs": [],
   "source": [
    "data={\n",
    "     'age': [20,23,21],\n",
    "    'name':['amit','arydeep','soham'],\n",
    "   \n",
    "    'sec':[\"d\",'a','d']\n",
    "    }"
   ]
  },
  {
   "cell_type": "code",
   "execution_count": 17,
   "metadata": {},
   "outputs": [
    {
     "data": {
      "text/plain": [
       "{'age': [20, 23, 21],\n",
       " 'name': ['amit', 'arydeep', 'soham'],\n",
       " 'sec': ['d', 'a', 'd']}"
      ]
     },
     "execution_count": 17,
     "metadata": {},
     "output_type": "execute_result"
    }
   ],
   "source": [
    "data"
   ]
  },
  {
   "cell_type": "code",
   "execution_count": 18,
   "metadata": {},
   "outputs": [],
   "source": [
    "df=pd.DataFrame(data)"
   ]
  },
  {
   "cell_type": "code",
   "execution_count": 19,
   "metadata": {},
   "outputs": [
    {
     "data": {
      "text/html": [
       "<div>\n",
       "<style scoped>\n",
       "    .dataframe tbody tr th:only-of-type {\n",
       "        vertical-align: middle;\n",
       "    }\n",
       "\n",
       "    .dataframe tbody tr th {\n",
       "        vertical-align: top;\n",
       "    }\n",
       "\n",
       "    .dataframe thead th {\n",
       "        text-align: right;\n",
       "    }\n",
       "</style>\n",
       "<table border=\"1\" class=\"dataframe\">\n",
       "  <thead>\n",
       "    <tr style=\"text-align: right;\">\n",
       "      <th></th>\n",
       "      <th>age</th>\n",
       "      <th>name</th>\n",
       "      <th>sec</th>\n",
       "    </tr>\n",
       "  </thead>\n",
       "  <tbody>\n",
       "    <tr>\n",
       "      <th>0</th>\n",
       "      <td>20</td>\n",
       "      <td>amit</td>\n",
       "      <td>d</td>\n",
       "    </tr>\n",
       "    <tr>\n",
       "      <th>1</th>\n",
       "      <td>23</td>\n",
       "      <td>arydeep</td>\n",
       "      <td>a</td>\n",
       "    </tr>\n",
       "    <tr>\n",
       "      <th>2</th>\n",
       "      <td>21</td>\n",
       "      <td>soham</td>\n",
       "      <td>d</td>\n",
       "    </tr>\n",
       "  </tbody>\n",
       "</table>\n",
       "</div>"
      ],
      "text/plain": [
       "   age     name sec\n",
       "0   20     amit   d\n",
       "1   23  arydeep   a\n",
       "2   21    soham   d"
      ]
     },
     "execution_count": 19,
     "metadata": {},
     "output_type": "execute_result"
    }
   ],
   "source": [
    "df"
   ]
  },
  {
   "cell_type": "code",
   "execution_count": 20,
   "metadata": {},
   "outputs": [],
   "source": [
    "df.to_csv('iamit.csv')"
   ]
  },
  {
   "cell_type": "code",
   "execution_count": null,
   "metadata": {},
   "outputs": [],
   "source": [
    "import numpy as np"
   ]
  },
  {
   "cell_type": "code",
   "execution_count": 8,
   "metadata": {},
   "outputs": [],
   "source": [
    "anup=pd.DataFrame(np.random.rand(334,5),index=np.arange(334))"
   ]
  },
  {
   "cell_type": "code",
   "execution_count": 9,
   "metadata": {},
   "outputs": [
    {
     "data": {
      "text/html": [
       "<div>\n",
       "<style scoped>\n",
       "    .dataframe tbody tr th:only-of-type {\n",
       "        vertical-align: middle;\n",
       "    }\n",
       "\n",
       "    .dataframe tbody tr th {\n",
       "        vertical-align: top;\n",
       "    }\n",
       "\n",
       "    .dataframe thead th {\n",
       "        text-align: right;\n",
       "    }\n",
       "</style>\n",
       "<table border=\"1\" class=\"dataframe\">\n",
       "  <thead>\n",
       "    <tr style=\"text-align: right;\">\n",
       "      <th></th>\n",
       "      <th>0</th>\n",
       "      <th>1</th>\n",
       "      <th>2</th>\n",
       "      <th>3</th>\n",
       "      <th>4</th>\n",
       "    </tr>\n",
       "  </thead>\n",
       "  <tbody>\n",
       "    <tr>\n",
       "      <th>0</th>\n",
       "      <td>0.642479</td>\n",
       "      <td>0.877437</td>\n",
       "      <td>0.926095</td>\n",
       "      <td>0.434052</td>\n",
       "      <td>0.784007</td>\n",
       "    </tr>\n",
       "    <tr>\n",
       "      <th>1</th>\n",
       "      <td>0.289321</td>\n",
       "      <td>0.630498</td>\n",
       "      <td>0.732573</td>\n",
       "      <td>0.452726</td>\n",
       "      <td>0.601318</td>\n",
       "    </tr>\n",
       "    <tr>\n",
       "      <th>2</th>\n",
       "      <td>0.805369</td>\n",
       "      <td>0.373361</td>\n",
       "      <td>0.333876</td>\n",
       "      <td>0.893351</td>\n",
       "      <td>0.420719</td>\n",
       "    </tr>\n",
       "    <tr>\n",
       "      <th>3</th>\n",
       "      <td>0.695085</td>\n",
       "      <td>0.930251</td>\n",
       "      <td>0.371233</td>\n",
       "      <td>0.801035</td>\n",
       "      <td>0.996133</td>\n",
       "    </tr>\n",
       "    <tr>\n",
       "      <th>4</th>\n",
       "      <td>0.189629</td>\n",
       "      <td>0.752647</td>\n",
       "      <td>0.102286</td>\n",
       "      <td>0.163583</td>\n",
       "      <td>0.289070</td>\n",
       "    </tr>\n",
       "    <tr>\n",
       "      <th>...</th>\n",
       "      <td>...</td>\n",
       "      <td>...</td>\n",
       "      <td>...</td>\n",
       "      <td>...</td>\n",
       "      <td>...</td>\n",
       "    </tr>\n",
       "    <tr>\n",
       "      <th>329</th>\n",
       "      <td>0.395425</td>\n",
       "      <td>0.045310</td>\n",
       "      <td>0.095041</td>\n",
       "      <td>0.620112</td>\n",
       "      <td>0.406677</td>\n",
       "    </tr>\n",
       "    <tr>\n",
       "      <th>330</th>\n",
       "      <td>0.034694</td>\n",
       "      <td>0.853403</td>\n",
       "      <td>0.631597</td>\n",
       "      <td>0.249125</td>\n",
       "      <td>0.328968</td>\n",
       "    </tr>\n",
       "    <tr>\n",
       "      <th>331</th>\n",
       "      <td>0.246515</td>\n",
       "      <td>0.404767</td>\n",
       "      <td>0.092302</td>\n",
       "      <td>0.800350</td>\n",
       "      <td>0.135032</td>\n",
       "    </tr>\n",
       "    <tr>\n",
       "      <th>332</th>\n",
       "      <td>0.895881</td>\n",
       "      <td>0.599817</td>\n",
       "      <td>0.135116</td>\n",
       "      <td>0.946729</td>\n",
       "      <td>0.840135</td>\n",
       "    </tr>\n",
       "    <tr>\n",
       "      <th>333</th>\n",
       "      <td>0.890930</td>\n",
       "      <td>0.582185</td>\n",
       "      <td>0.353525</td>\n",
       "      <td>0.772792</td>\n",
       "      <td>0.967618</td>\n",
       "    </tr>\n",
       "  </tbody>\n",
       "</table>\n",
       "<p>334 rows × 5 columns</p>\n",
       "</div>"
      ],
      "text/plain": [
       "            0         1         2         3         4\n",
       "0    0.642479  0.877437  0.926095  0.434052  0.784007\n",
       "1    0.289321  0.630498  0.732573  0.452726  0.601318\n",
       "2    0.805369  0.373361  0.333876  0.893351  0.420719\n",
       "3    0.695085  0.930251  0.371233  0.801035  0.996133\n",
       "4    0.189629  0.752647  0.102286  0.163583  0.289070\n",
       "..        ...       ...       ...       ...       ...\n",
       "329  0.395425  0.045310  0.095041  0.620112  0.406677\n",
       "330  0.034694  0.853403  0.631597  0.249125  0.328968\n",
       "331  0.246515  0.404767  0.092302  0.800350  0.135032\n",
       "332  0.895881  0.599817  0.135116  0.946729  0.840135\n",
       "333  0.890930  0.582185  0.353525  0.772792  0.967618\n",
       "\n",
       "[334 rows x 5 columns]"
      ]
     },
     "execution_count": 9,
     "metadata": {},
     "output_type": "execute_result"
    }
   ],
   "source": [
    "anup"
   ]
  },
  {
   "cell_type": "code",
   "execution_count": 10,
   "metadata": {},
   "outputs": [],
   "source": [
    "amit={\n",
    "    'name':['amit','arydeep','soham','anup','sayan','sondeep','santonu'],\n",
    "    'age': [20,23,21,'np.null',12,13,18],\n",
    "    'sec':[\"d\",'a','d','e','','c','b']\n",
    "    }"
   ]
  },
  {
   "cell_type": "code",
   "execution_count": 11,
   "metadata": {},
   "outputs": [
    {
     "data": {
      "text/plain": [
       "{'name': ['amit', 'arydeep', 'soham', 'anup', 'sayan', 'sondeep', 'santonu'],\n",
       " 'age': [20, 23, 21, 'np.null', 12, 13, 18],\n",
       " 'sec': ['d', 'a', 'd', 'e', '', 'c', 'b']}"
      ]
     },
     "execution_count": 11,
     "metadata": {},
     "output_type": "execute_result"
    }
   ],
   "source": [
    "amit"
   ]
  },
  {
   "cell_type": "code",
   "execution_count": 12,
   "metadata": {},
   "outputs": [],
   "source": [
    "am=pd.DataFrame(amit)"
   ]
  },
  {
   "cell_type": "code",
   "execution_count": 13,
   "metadata": {},
   "outputs": [
    {
     "data": {
      "text/html": [
       "<div>\n",
       "<style scoped>\n",
       "    .dataframe tbody tr th:only-of-type {\n",
       "        vertical-align: middle;\n",
       "    }\n",
       "\n",
       "    .dataframe tbody tr th {\n",
       "        vertical-align: top;\n",
       "    }\n",
       "\n",
       "    .dataframe thead th {\n",
       "        text-align: right;\n",
       "    }\n",
       "</style>\n",
       "<table border=\"1\" class=\"dataframe\">\n",
       "  <thead>\n",
       "    <tr style=\"text-align: right;\">\n",
       "      <th></th>\n",
       "      <th>name</th>\n",
       "      <th>age</th>\n",
       "      <th>sec</th>\n",
       "    </tr>\n",
       "  </thead>\n",
       "  <tbody>\n",
       "    <tr>\n",
       "      <th>0</th>\n",
       "      <td>amit</td>\n",
       "      <td>20</td>\n",
       "      <td>d</td>\n",
       "    </tr>\n",
       "    <tr>\n",
       "      <th>1</th>\n",
       "      <td>arydeep</td>\n",
       "      <td>23</td>\n",
       "      <td>a</td>\n",
       "    </tr>\n",
       "    <tr>\n",
       "      <th>2</th>\n",
       "      <td>soham</td>\n",
       "      <td>21</td>\n",
       "      <td>d</td>\n",
       "    </tr>\n",
       "    <tr>\n",
       "      <th>3</th>\n",
       "      <td>anup</td>\n",
       "      <td>np.null</td>\n",
       "      <td>e</td>\n",
       "    </tr>\n",
       "    <tr>\n",
       "      <th>4</th>\n",
       "      <td>sayan</td>\n",
       "      <td>12</td>\n",
       "      <td></td>\n",
       "    </tr>\n",
       "    <tr>\n",
       "      <th>5</th>\n",
       "      <td>sondeep</td>\n",
       "      <td>13</td>\n",
       "      <td>c</td>\n",
       "    </tr>\n",
       "    <tr>\n",
       "      <th>6</th>\n",
       "      <td>santonu</td>\n",
       "      <td>18</td>\n",
       "      <td>b</td>\n",
       "    </tr>\n",
       "  </tbody>\n",
       "</table>\n",
       "</div>"
      ],
      "text/plain": [
       "      name      age sec\n",
       "0     amit       20   d\n",
       "1  arydeep       23   a\n",
       "2    soham       21   d\n",
       "3     anup  np.null   e\n",
       "4    sayan       12    \n",
       "5  sondeep       13   c\n",
       "6  santonu       18   b"
      ]
     },
     "execution_count": 13,
     "metadata": {},
     "output_type": "execute_result"
    }
   ],
   "source": [
    "am"
   ]
  },
  {
   "cell_type": "code",
   "execution_count": 14,
   "metadata": {},
   "outputs": [
    {
     "data": {
      "text/plain": [
       "<bound method NDFrame.head of             0         1         2         3         4\n",
       "0    0.642479  0.877437  0.926095  0.434052  0.784007\n",
       "1    0.289321  0.630498  0.732573  0.452726  0.601318\n",
       "2    0.805369  0.373361  0.333876  0.893351  0.420719\n",
       "3    0.695085  0.930251  0.371233  0.801035  0.996133\n",
       "4    0.189629  0.752647  0.102286  0.163583  0.289070\n",
       "..        ...       ...       ...       ...       ...\n",
       "329  0.395425  0.045310  0.095041  0.620112  0.406677\n",
       "330  0.034694  0.853403  0.631597  0.249125  0.328968\n",
       "331  0.246515  0.404767  0.092302  0.800350  0.135032\n",
       "332  0.895881  0.599817  0.135116  0.946729  0.840135\n",
       "333  0.890930  0.582185  0.353525  0.772792  0.967618\n",
       "\n",
       "[334 rows x 5 columns]>"
      ]
     },
     "execution_count": 14,
     "metadata": {},
     "output_type": "execute_result"
    }
   ],
   "source": [
    "anup.head"
   ]
  },
  {
   "cell_type": "code",
   "execution_count": 15,
   "metadata": {},
   "outputs": [
    {
     "data": {
      "text/plain": [
       "<bound method NDFrame.tail of             0         1         2         3         4\n",
       "0    0.642479  0.877437  0.926095  0.434052  0.784007\n",
       "1    0.289321  0.630498  0.732573  0.452726  0.601318\n",
       "2    0.805369  0.373361  0.333876  0.893351  0.420719\n",
       "3    0.695085  0.930251  0.371233  0.801035  0.996133\n",
       "4    0.189629  0.752647  0.102286  0.163583  0.289070\n",
       "..        ...       ...       ...       ...       ...\n",
       "329  0.395425  0.045310  0.095041  0.620112  0.406677\n",
       "330  0.034694  0.853403  0.631597  0.249125  0.328968\n",
       "331  0.246515  0.404767  0.092302  0.800350  0.135032\n",
       "332  0.895881  0.599817  0.135116  0.946729  0.840135\n",
       "333  0.890930  0.582185  0.353525  0.772792  0.967618\n",
       "\n",
       "[334 rows x 5 columns]>"
      ]
     },
     "execution_count": 15,
     "metadata": {},
     "output_type": "execute_result"
    }
   ],
   "source": [
    "anup.tail"
   ]
  },
  {
   "cell_type": "code",
   "execution_count": null,
   "metadata": {},
   "outputs": [],
   "source": []
  }
 ],
 "metadata": {
  "kernelspec": {
   "display_name": "Python 3",
   "language": "python",
   "name": "python3"
  },
  "language_info": {
   "codemirror_mode": {
    "name": "ipython",
    "version": 3
   },
   "file_extension": ".py",
   "mimetype": "text/x-python",
   "name": "python",
   "nbconvert_exporter": "python",
   "pygments_lexer": "ipython3",
   "version": "3.8.10"
  }
 },
 "nbformat": 4,
 "nbformat_minor": 2
}
